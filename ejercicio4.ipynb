{
 "cells": [
  {
   "cell_type": "code",
   "execution_count": 9,
   "id": "090e52b7",
   "metadata": {},
   "outputs": [
    {
     "ename": "KeyboardInterrupt",
     "evalue": "",
     "output_type": "error",
     "traceback": [
      "\u001b[1;31m---------------------------------------------------------------------------\u001b[0m",
      "\u001b[1;31mKeyboardInterrupt\u001b[0m                         Traceback (most recent call last)",
      "Cell \u001b[1;32mIn[9], line 57\u001b[0m\n\u001b[0;32m     54\u001b[0m ys \u001b[38;5;241m=\u001b[39m [p[\u001b[38;5;241m1\u001b[39m] \u001b[38;5;28;01mfor\u001b[39;00m p \u001b[38;5;129;01min\u001b[39;00m puntos]\n\u001b[0;32m     56\u001b[0m \u001b[38;5;66;03m# Obtener polinomio\u001b[39;00m\n\u001b[1;32m---> 57\u001b[0m polinomio \u001b[38;5;241m=\u001b[39m \u001b[43minterpolacion_lagrange_polinomio\u001b[49m\u001b[43m(\u001b[49m\u001b[43mxs\u001b[49m\u001b[43m,\u001b[49m\u001b[43m \u001b[49m\u001b[43mys\u001b[49m\u001b[43m)\u001b[49m\n\u001b[0;32m     58\u001b[0m \u001b[38;5;28mprint\u001b[39m(\u001b[38;5;124m\"\u001b[39m\u001b[38;5;124mPolinomio de interpolación simplificado:\u001b[39m\u001b[38;5;124m\"\u001b[39m)\n\u001b[0;32m     59\u001b[0m \u001b[38;5;28mprint\u001b[39m(polinomio)\n",
      "Cell \u001b[1;32mIn[9], line 23\u001b[0m, in \u001b[0;36minterpolacion_lagrange_polinomio\u001b[1;34m(xs, ys)\u001b[0m\n\u001b[0;32m     21\u001b[0m             termino \u001b[38;5;241m*\u001b[39m\u001b[38;5;241m=\u001b[39m (x \u001b[38;5;241m-\u001b[39m xs[j]) \u001b[38;5;241m/\u001b[39m (xs[i] \u001b[38;5;241m-\u001b[39m xs[j])\n\u001b[0;32m     22\u001b[0m     \u001b[38;5;66;03m# debe ser maximo hasta x4\u001b[39;00m\n\u001b[1;32m---> 23\u001b[0m     polinomio \u001b[38;5;241m+\u001b[39m\u001b[38;5;241m=\u001b[39m ys[i] \u001b[38;5;241m*\u001b[39m \u001b[43mtermino\u001b[49m\u001b[38;5;241;43m.\u001b[39;49m\u001b[43mexpand\u001b[49m\u001b[43m(\u001b[49m\u001b[43m)\u001b[49m\n\u001b[0;32m     24\u001b[0m \u001b[38;5;28;01mreturn\u001b[39;00m simplify(expand(polinomio))\n",
      "File \u001b[1;32m~\\AppData\\Local\\Packages\\PythonSoftwareFoundation.Python.3.11_qbz5n2kfra8p0\\LocalCache\\local-packages\\Python311\\site-packages\\sympy\\core\\cache.py:72\u001b[0m, in \u001b[0;36m__cacheit.<locals>.func_wrapper.<locals>.wrapper\u001b[1;34m(*args, **kwargs)\u001b[0m\n\u001b[0;32m     69\u001b[0m \u001b[38;5;129m@wraps\u001b[39m(func)\n\u001b[0;32m     70\u001b[0m \u001b[38;5;28;01mdef\u001b[39;00m \u001b[38;5;21mwrapper\u001b[39m(\u001b[38;5;241m*\u001b[39margs, \u001b[38;5;241m*\u001b[39m\u001b[38;5;241m*\u001b[39mkwargs):\n\u001b[0;32m     71\u001b[0m     \u001b[38;5;28;01mtry\u001b[39;00m:\n\u001b[1;32m---> 72\u001b[0m         retval \u001b[38;5;241m=\u001b[39m \u001b[43mcfunc\u001b[49m\u001b[43m(\u001b[49m\u001b[38;5;241;43m*\u001b[39;49m\u001b[43margs\u001b[49m\u001b[43m,\u001b[49m\u001b[43m \u001b[49m\u001b[38;5;241;43m*\u001b[39;49m\u001b[38;5;241;43m*\u001b[39;49m\u001b[43mkwargs\u001b[49m\u001b[43m)\u001b[49m\n\u001b[0;32m     73\u001b[0m     \u001b[38;5;28;01mexcept\u001b[39;00m \u001b[38;5;167;01mTypeError\u001b[39;00m \u001b[38;5;28;01mas\u001b[39;00m e:\n\u001b[0;32m     74\u001b[0m         \u001b[38;5;28;01mif\u001b[39;00m \u001b[38;5;129;01mnot\u001b[39;00m e\u001b[38;5;241m.\u001b[39margs \u001b[38;5;129;01mor\u001b[39;00m \u001b[38;5;129;01mnot\u001b[39;00m e\u001b[38;5;241m.\u001b[39margs[\u001b[38;5;241m0\u001b[39m]\u001b[38;5;241m.\u001b[39mstartswith(\u001b[38;5;124m'\u001b[39m\u001b[38;5;124munhashable type:\u001b[39m\u001b[38;5;124m'\u001b[39m):\n",
      "File \u001b[1;32m~\\AppData\\Local\\Packages\\PythonSoftwareFoundation.Python.3.11_qbz5n2kfra8p0\\LocalCache\\local-packages\\Python311\\site-packages\\sympy\\core\\expr.py:3704\u001b[0m, in \u001b[0;36mExpr.expand\u001b[1;34m(self, deep, modulus, power_base, power_exp, mul, log, multinomial, basic, **hints)\u001b[0m\n\u001b[0;32m   3702\u001b[0m     \u001b[38;5;28;01mif\u001b[39;00m use_hint:\n\u001b[0;32m   3703\u001b[0m         hint \u001b[38;5;241m=\u001b[39m \u001b[38;5;124m'\u001b[39m\u001b[38;5;124m_eval_expand_\u001b[39m\u001b[38;5;124m'\u001b[39m \u001b[38;5;241m+\u001b[39m hint\n\u001b[1;32m-> 3704\u001b[0m         expr, hit \u001b[38;5;241m=\u001b[39m \u001b[43mExpr\u001b[49m\u001b[38;5;241;43m.\u001b[39;49m\u001b[43m_expand_hint\u001b[49m\u001b[43m(\u001b[49m\u001b[43mexpr\u001b[49m\u001b[43m,\u001b[49m\u001b[43m \u001b[49m\u001b[43mhint\u001b[49m\u001b[43m,\u001b[49m\u001b[43m \u001b[49m\u001b[43mdeep\u001b[49m\u001b[38;5;241;43m=\u001b[39;49m\u001b[43mdeep\u001b[49m\u001b[43m,\u001b[49m\u001b[43m \u001b[49m\u001b[38;5;241;43m*\u001b[39;49m\u001b[38;5;241;43m*\u001b[39;49m\u001b[43mhints\u001b[49m\u001b[43m)\u001b[49m\n\u001b[0;32m   3706\u001b[0m \u001b[38;5;28;01mwhile\u001b[39;00m \u001b[38;5;28;01mTrue\u001b[39;00m:\n\u001b[0;32m   3707\u001b[0m     was \u001b[38;5;241m=\u001b[39m expr\n",
      "File \u001b[1;32m~\\AppData\\Local\\Packages\\PythonSoftwareFoundation.Python.3.11_qbz5n2kfra8p0\\LocalCache\\local-packages\\Python311\\site-packages\\sympy\\core\\expr.py:3643\u001b[0m, in \u001b[0;36mExpr._expand_hint\u001b[1;34m(expr, hint, deep, **hints)\u001b[0m\n\u001b[0;32m   3640\u001b[0m         expr \u001b[38;5;241m=\u001b[39m expr\u001b[38;5;241m.\u001b[39mfunc(\u001b[38;5;241m*\u001b[39msargs)\n\u001b[0;32m   3642\u001b[0m \u001b[38;5;28;01mif\u001b[39;00m \u001b[38;5;28mhasattr\u001b[39m(expr, hint):\n\u001b[1;32m-> 3643\u001b[0m     newexpr \u001b[38;5;241m=\u001b[39m \u001b[38;5;28;43mgetattr\u001b[39;49m\u001b[43m(\u001b[49m\u001b[43mexpr\u001b[49m\u001b[43m,\u001b[49m\u001b[43m \u001b[49m\u001b[43mhint\u001b[49m\u001b[43m)\u001b[49m\u001b[43m(\u001b[49m\u001b[38;5;241;43m*\u001b[39;49m\u001b[38;5;241;43m*\u001b[39;49m\u001b[43mhints\u001b[49m\u001b[43m)\u001b[49m\n\u001b[0;32m   3644\u001b[0m     \u001b[38;5;28;01mif\u001b[39;00m newexpr \u001b[38;5;241m!=\u001b[39m expr:\n\u001b[0;32m   3645\u001b[0m         \u001b[38;5;28;01mreturn\u001b[39;00m (newexpr, \u001b[38;5;28;01mTrue\u001b[39;00m)\n",
      "File \u001b[1;32m~\\AppData\\Local\\Packages\\PythonSoftwareFoundation.Python.3.11_qbz5n2kfra8p0\\LocalCache\\local-packages\\Python311\\site-packages\\sympy\\core\\mul.py:966\u001b[0m, in \u001b[0;36mMul._eval_expand_mul\u001b[1;34m(self, **hints)\u001b[0m\n\u001b[0;32m    964\u001b[0m \u001b[38;5;28;01mif\u001b[39;00m sums:\n\u001b[0;32m    965\u001b[0m     deep \u001b[38;5;241m=\u001b[39m hints\u001b[38;5;241m.\u001b[39mget(\u001b[38;5;124m\"\u001b[39m\u001b[38;5;124mdeep\u001b[39m\u001b[38;5;124m\"\u001b[39m, \u001b[38;5;28;01mFalse\u001b[39;00m)\n\u001b[1;32m--> 966\u001b[0m     terms \u001b[38;5;241m=\u001b[39m \u001b[38;5;28;43mself\u001b[39;49m\u001b[38;5;241;43m.\u001b[39;49m\u001b[43mfunc\u001b[49m\u001b[38;5;241;43m.\u001b[39;49m\u001b[43m_expandsums\u001b[49m\u001b[43m(\u001b[49m\u001b[43msums\u001b[49m\u001b[43m)\u001b[49m\n\u001b[0;32m    967\u001b[0m     args \u001b[38;5;241m=\u001b[39m []\n\u001b[0;32m    968\u001b[0m     \u001b[38;5;28;01mfor\u001b[39;00m term \u001b[38;5;129;01min\u001b[39;00m terms:\n",
      "File \u001b[1;32m~\\AppData\\Local\\Packages\\PythonSoftwareFoundation.Python.3.11_qbz5n2kfra8p0\\LocalCache\\local-packages\\Python311\\site-packages\\sympy\\core\\mul.py:930\u001b[0m, in \u001b[0;36mMul._expandsums\u001b[1;34m(sums)\u001b[0m\n\u001b[0;32m    927\u001b[0m left \u001b[38;5;241m=\u001b[39m Mul\u001b[38;5;241m.\u001b[39m_expandsums(sums[:L\u001b[38;5;241m/\u001b[39m\u001b[38;5;241m/\u001b[39m\u001b[38;5;241m2\u001b[39m])\n\u001b[0;32m    928\u001b[0m right \u001b[38;5;241m=\u001b[39m Mul\u001b[38;5;241m.\u001b[39m_expandsums(sums[L\u001b[38;5;241m/\u001b[39m\u001b[38;5;241m/\u001b[39m\u001b[38;5;241m2\u001b[39m:])\n\u001b[1;32m--> 930\u001b[0m terms \u001b[38;5;241m=\u001b[39m \u001b[43m[\u001b[49m\u001b[43mMul\u001b[49m\u001b[43m(\u001b[49m\u001b[43ma\u001b[49m\u001b[43m,\u001b[49m\u001b[43m \u001b[49m\u001b[43mb\u001b[49m\u001b[43m)\u001b[49m\u001b[43m \u001b[49m\u001b[38;5;28;43;01mfor\u001b[39;49;00m\u001b[43m \u001b[49m\u001b[43ma\u001b[49m\u001b[43m \u001b[49m\u001b[38;5;129;43;01min\u001b[39;49;00m\u001b[43m \u001b[49m\u001b[43mleft\u001b[49m\u001b[43m \u001b[49m\u001b[38;5;28;43;01mfor\u001b[39;49;00m\u001b[43m \u001b[49m\u001b[43mb\u001b[49m\u001b[43m \u001b[49m\u001b[38;5;129;43;01min\u001b[39;49;00m\u001b[43m \u001b[49m\u001b[43mright\u001b[49m\u001b[43m]\u001b[49m\n\u001b[0;32m    931\u001b[0m added \u001b[38;5;241m=\u001b[39m Add(\u001b[38;5;241m*\u001b[39mterms)\n\u001b[0;32m    932\u001b[0m \u001b[38;5;28;01mreturn\u001b[39;00m Add\u001b[38;5;241m.\u001b[39mmake_args(added)\n",
      "File \u001b[1;32m~\\AppData\\Local\\Packages\\PythonSoftwareFoundation.Python.3.11_qbz5n2kfra8p0\\LocalCache\\local-packages\\Python311\\site-packages\\sympy\\core\\mul.py:930\u001b[0m, in \u001b[0;36m<listcomp>\u001b[1;34m(.0)\u001b[0m\n\u001b[0;32m    927\u001b[0m left \u001b[38;5;241m=\u001b[39m Mul\u001b[38;5;241m.\u001b[39m_expandsums(sums[:L\u001b[38;5;241m/\u001b[39m\u001b[38;5;241m/\u001b[39m\u001b[38;5;241m2\u001b[39m])\n\u001b[0;32m    928\u001b[0m right \u001b[38;5;241m=\u001b[39m Mul\u001b[38;5;241m.\u001b[39m_expandsums(sums[L\u001b[38;5;241m/\u001b[39m\u001b[38;5;241m/\u001b[39m\u001b[38;5;241m2\u001b[39m:])\n\u001b[1;32m--> 930\u001b[0m terms \u001b[38;5;241m=\u001b[39m [\u001b[43mMul\u001b[49m\u001b[43m(\u001b[49m\u001b[43ma\u001b[49m\u001b[43m,\u001b[49m\u001b[43m \u001b[49m\u001b[43mb\u001b[49m\u001b[43m)\u001b[49m \u001b[38;5;28;01mfor\u001b[39;00m a \u001b[38;5;129;01min\u001b[39;00m left \u001b[38;5;28;01mfor\u001b[39;00m b \u001b[38;5;129;01min\u001b[39;00m right]\n\u001b[0;32m    931\u001b[0m added \u001b[38;5;241m=\u001b[39m Add(\u001b[38;5;241m*\u001b[39mterms)\n\u001b[0;32m    932\u001b[0m \u001b[38;5;28;01mreturn\u001b[39;00m Add\u001b[38;5;241m.\u001b[39mmake_args(added)\n",
      "File \u001b[1;32m~\\AppData\\Local\\Packages\\PythonSoftwareFoundation.Python.3.11_qbz5n2kfra8p0\\LocalCache\\local-packages\\Python311\\site-packages\\sympy\\core\\cache.py:72\u001b[0m, in \u001b[0;36m__cacheit.<locals>.func_wrapper.<locals>.wrapper\u001b[1;34m(*args, **kwargs)\u001b[0m\n\u001b[0;32m     69\u001b[0m \u001b[38;5;129m@wraps\u001b[39m(func)\n\u001b[0;32m     70\u001b[0m \u001b[38;5;28;01mdef\u001b[39;00m \u001b[38;5;21mwrapper\u001b[39m(\u001b[38;5;241m*\u001b[39margs, \u001b[38;5;241m*\u001b[39m\u001b[38;5;241m*\u001b[39mkwargs):\n\u001b[0;32m     71\u001b[0m     \u001b[38;5;28;01mtry\u001b[39;00m:\n\u001b[1;32m---> 72\u001b[0m         retval \u001b[38;5;241m=\u001b[39m \u001b[43mcfunc\u001b[49m\u001b[43m(\u001b[49m\u001b[38;5;241;43m*\u001b[39;49m\u001b[43margs\u001b[49m\u001b[43m,\u001b[49m\u001b[43m \u001b[49m\u001b[38;5;241;43m*\u001b[39;49m\u001b[38;5;241;43m*\u001b[39;49m\u001b[43mkwargs\u001b[49m\u001b[43m)\u001b[49m\n\u001b[0;32m     73\u001b[0m     \u001b[38;5;28;01mexcept\u001b[39;00m \u001b[38;5;167;01mTypeError\u001b[39;00m \u001b[38;5;28;01mas\u001b[39;00m e:\n\u001b[0;32m     74\u001b[0m         \u001b[38;5;28;01mif\u001b[39;00m \u001b[38;5;129;01mnot\u001b[39;00m e\u001b[38;5;241m.\u001b[39margs \u001b[38;5;129;01mor\u001b[39;00m \u001b[38;5;129;01mnot\u001b[39;00m e\u001b[38;5;241m.\u001b[39margs[\u001b[38;5;241m0\u001b[39m]\u001b[38;5;241m.\u001b[39mstartswith(\u001b[38;5;124m'\u001b[39m\u001b[38;5;124munhashable type:\u001b[39m\u001b[38;5;124m'\u001b[39m):\n",
      "File \u001b[1;32m~\\AppData\\Local\\Packages\\PythonSoftwareFoundation.Python.3.11_qbz5n2kfra8p0\\LocalCache\\local-packages\\Python311\\site-packages\\sympy\\core\\operations.py:108\u001b[0m, in \u001b[0;36mAssocOp.__new__\u001b[1;34m(cls, evaluate, _sympify, *args)\u001b[0m\n\u001b[0;32m    105\u001b[0m \u001b[38;5;28;01mif\u001b[39;00m \u001b[38;5;28mlen\u001b[39m(args) \u001b[38;5;241m==\u001b[39m \u001b[38;5;241m1\u001b[39m:\n\u001b[0;32m    106\u001b[0m     \u001b[38;5;28;01mreturn\u001b[39;00m args[\u001b[38;5;241m0\u001b[39m]\n\u001b[1;32m--> 108\u001b[0m c_part, nc_part, order_symbols \u001b[38;5;241m=\u001b[39m \u001b[38;5;28;43mcls\u001b[39;49m\u001b[38;5;241;43m.\u001b[39;49m\u001b[43mflatten\u001b[49m\u001b[43m(\u001b[49m\u001b[43margs\u001b[49m\u001b[43m)\u001b[49m\n\u001b[0;32m    109\u001b[0m is_commutative \u001b[38;5;241m=\u001b[39m \u001b[38;5;129;01mnot\u001b[39;00m nc_part\n\u001b[0;32m    110\u001b[0m obj \u001b[38;5;241m=\u001b[39m \u001b[38;5;28mcls\u001b[39m\u001b[38;5;241m.\u001b[39m_from_args(c_part \u001b[38;5;241m+\u001b[39m nc_part, is_commutative)\n",
      "File \u001b[1;32m~\\AppData\\Local\\Packages\\PythonSoftwareFoundation.Python.3.11_qbz5n2kfra8p0\\LocalCache\\local-packages\\Python311\\site-packages\\sympy\\core\\mul.py:285\u001b[0m, in \u001b[0;36mMul.flatten\u001b[1;34m(cls, seq)\u001b[0m\n\u001b[0;32m    207\u001b[0m \u001b[38;5;250m\u001b[39m\u001b[38;5;124;03m\"\"\"Return commutative, noncommutative and order arguments by\u001b[39;00m\n\u001b[0;32m    208\u001b[0m \u001b[38;5;124;03mcombining related terms.\u001b[39;00m\n\u001b[0;32m    209\u001b[0m \n\u001b[1;32m   (...)\u001b[0m\n\u001b[0;32m    281\u001b[0m \u001b[38;5;124;03m      Removal of 1 from the sequence is already handled by AssocOp.__new__.\u001b[39;00m\n\u001b[0;32m    282\u001b[0m \u001b[38;5;124;03m\"\"\"\u001b[39;00m\n\u001b[0;32m    284\u001b[0m \u001b[38;5;28;01mfrom\u001b[39;00m \u001b[38;5;21;01msympy\u001b[39;00m\u001b[38;5;21;01m.\u001b[39;00m\u001b[38;5;21;01mcalculus\u001b[39;00m\u001b[38;5;21;01m.\u001b[39;00m\u001b[38;5;21;01maccumulationbounds\u001b[39;00m \u001b[38;5;28;01mimport\u001b[39;00m AccumBounds\n\u001b[1;32m--> 285\u001b[0m \u001b[38;5;28;01mfrom\u001b[39;00m \u001b[38;5;21;01msympy\u001b[39;00m\u001b[38;5;21;01m.\u001b[39;00m\u001b[38;5;21;01mmatrices\u001b[39;00m\u001b[38;5;21;01m.\u001b[39;00m\u001b[38;5;21;01mexpressions\u001b[39;00m \u001b[38;5;28;01mimport\u001b[39;00m MatrixExpr\n\u001b[0;32m    286\u001b[0m rv \u001b[38;5;241m=\u001b[39m \u001b[38;5;28;01mNone\u001b[39;00m\n\u001b[0;32m    287\u001b[0m \u001b[38;5;28;01mif\u001b[39;00m \u001b[38;5;28mlen\u001b[39m(seq) \u001b[38;5;241m==\u001b[39m \u001b[38;5;241m2\u001b[39m:\n",
      "File \u001b[1;32m<frozen importlib._bootstrap>:1207\u001b[0m, in \u001b[0;36m_handle_fromlist\u001b[1;34m(module, fromlist, import_, recursive)\u001b[0m\n",
      "\u001b[1;31mKeyboardInterrupt\u001b[0m: "
     ]
    }
   ],
   "source": [
    "from sympy import symbols, simplify, expand, lambdify\n",
    "\n",
    "def interpolacion_lagrange_polinomio(xs: list, ys: list):\n",
    "    \"\"\"\n",
    "    Construye el polinomio de interpolación de Lagrange simbólicamente.\n",
    "\n",
    "    Parámetros:\n",
    "    - xs: lista de valores de x\n",
    "    - ys: lista de valores de y\n",
    "\n",
    "    Retorna:\n",
    "    - Polinomio simplificado\n",
    "    \"\"\"\n",
    "    x = symbols('x')\n",
    "    n = len(xs)\n",
    "    polinomio = 0\n",
    "    for i in range(n):\n",
    "        termino = 1\n",
    "        for j in range(n):\n",
    "            if i != j:\n",
    "                termino *= (x - xs[j]) / (xs[i] - xs[j])\n",
    "        # debe ser maximo hasta x4\n",
    "        polinomio += ys[i] * termino.expand()\n",
    "    return simplify(expand(polinomio))\n",
    "\n",
    "def evaluar_polinomio(polinomio, xs):\n",
    "    \"\"\"\n",
    "    Evalúa el polinomio simbólico en los puntos xs\n",
    "\n",
    "    Parámetros:\n",
    "    - polinomio: expresión simbólica\n",
    "    - xs: lista de valores x\n",
    "\n",
    "    Retorna:\n",
    "    - Lista de valores y interpolados\n",
    "    \"\"\"\n",
    "    x = symbols('x')\n",
    "    f = lambdify(x, polinomio, 'numpy')\n",
    "    return f(xs)\n",
    "\n",
    "def calcular_errores_relativos_numericos(ys_reales, ys_estimados):\n",
    "    errores = []\n",
    "    for real, estimado in zip(ys_reales, ys_estimados):\n",
    "        error = abs((real - estimado) / real) if real != 0 else float('inf')\n",
    "        errores.append(error)\n",
    "    return errores\n",
    "\n",
    "def estadisticas_errores(errores):\n",
    "    return min(errores), max(errores), sum(errores) / len(errores)\n",
    "\n",
    "puntos = [(-7.0, 18.295), (-6.96, 18.924), (-6.92, 17.099), (-6.879, 19.592), (-6.839, 18.568), (-6.799, 16.477), (-6.759, 18.783), (-6.719, 18.082), (-6.678, 18.099), (-6.638, 16.696), (-6.598, 16.457), (-6.558, 15.253), (-6.518, 18.337), (-6.477, 17.789), (-6.437, 17.014), (-6.397, 16.393), (-6.357, 16.286), (-6.317, 14.595), (-6.276, 15.176), (-6.236, 14.259), (-6.196, 16.252), (-6.156, 14.637), (-6.116, 15.447), (-6.075, 15.911), (-6.035, 13.627), (-5.995, 14.585), (-5.955, 12.948), (-5.915, 14.402), (-5.874, 14.563), (-5.834, 16.175), (-5.794, 14.377), (-5.754, 14.59), (-5.714, 14.161), (-5.673, 13.703), (-5.633, 13.377), (-5.593, 14.239), (-5.553, 13.006), (-5.513, 12.95), (-5.472, 13.591), (-5.432, 13.893), (-5.392, 11.532), (-5.352, 14.877), (-5.312, 13.337), (-5.271, 13.795), (-5.231, 12.723), (-5.191, 13.756), (-5.151, 11.947), (-5.111, 13.191), (-5.07, 12.461), (-5.03, 13.801), (-4.99, 13.337), (-4.95, 13.225), (-4.91, 13.312), (-4.869, 13.716), (-4.829, 13.061), (-4.789, 12.932), (-4.749, 13.159), (-4.709, 12.647), (-4.668, 12.159), (-4.628, 12.693), (-4.588, 11.234), (-4.548, 13.657), (-4.508, 12.131), (-4.467, 13.116), (-4.427, 11.28), (-4.387, 13.204), (-4.347, 12.681), (-4.307, 12.355), (-4.266, 12.447), (-4.226, 14.183), (-4.186, 14.629), (-4.146, 13.632), (-4.106, 12.527), (-4.065, 12.806), (-4.025, 12.193), (-3.985, 13.291), (-3.945, 13.825), (-3.905, 13.299), (-3.864, 14.618), (-3.824, 14.539), (-3.784, 12.474), (-3.744, 12.456), (-3.704, 14.371), (-3.663, 13.912), (-3.623, 12.522), (-3.583, 14.085), (-3.543, 12.861), (-3.503, 14.924), (-3.462, 14.87), (-3.422, 13.489), (-3.382, 15.417), (-3.342, 15.143), (-3.302, 14.011), (-3.261, 14.199), (-3.221, 14.469), (-3.181, 13.842), (-3.141, 13.583), (-3.101, 14.657), (-3.06, 14.469), (-3.02, 14.213), (-2.98, 16.496), (-2.94, 14.685), (-2.899, 16.626), (-2.859, 13.83), (-2.819, 15.049), (-2.779, 14.276), (-2.739, 16.734), (-2.698, 18.072), (-2.658, 16.275), (-2.618, 16.2), (-2.578, 16.4), (-2.538, 17.622), (-2.497, 17.129), (-2.457, 17.629), (-2.417, 15.697), (-2.377, 16.156), (-2.337, 17.454), (-2.296, 17.942), (-2.256, 15.999), (-2.216, 17.687), (-2.176, 17.084), (-2.136, 18.711), (-2.095, 14.939), (-2.055, 20.116), (-2.015, 18.477), (-1.975, 16.642), (-1.935, 19.969), (-1.894, 19.283), (-1.854, 20.629), (-1.814, 17.274), (-1.774, 18.177), (-1.734, 20.677), (-1.693, 22.297), (-1.653, 24.108), (-1.613, 21.001), (-1.573, 22.261), (-1.533, 19.508), (-1.492, 19.727), (-1.452, 23.987), (-1.412, 22.089), (-1.372, 24.427), (-1.332, 19.869), (-1.291, 24.149), (-1.251, 23.872), (-1.211, 26.017), (-1.171, 21.804), (-1.131, 23.37), (-1.09, 25.047), (-1.05, 23.894), (-1.01, 24.512), (-0.97, 27.049), (-0.93, 27.149), (-0.889, 26.742), (-0.849, 23.91), (-0.809, 24.265), (-0.769, 27.464), (-0.729, 23.775), (-0.688, 27.62), (-0.648, 28.504), (-0.608, 28.295), (-0.568, 28.096), (-0.528, 31.528), (-0.487, 31.188), (-0.447, 29.722), (-0.407, 29.521), (-0.367, 31.992), (-0.327, 28.991), (-0.286, 31.823), (-0.246, 33.04), (-0.206, 31.061), (-0.166, 32.814), (-0.126, 29.264), (-0.085, 33.214), (-0.045, 33.981), (-0.005, 36.273), (0.035, 33.327), (0.075, 34.618), (0.116, 35.065), (0.156, 31.0), (0.196, 36.441), (0.236, 38.878), (0.276, 36.338), (0.317, 37.844), (0.357, 32.963), (0.397, 35.057), (0.437, 35.193), (0.477, 39.027), (0.518, 35.477), (0.558, 36.345), (0.598, 36.056), (0.638, 39.056), (0.678, 40.193), (0.719, 36.724), (0.759, 39.845), (0.799, 43.666), (0.839, 41.484), (0.879, 39.019), (0.92, 37.805), (0.96, 45.267), (1.0, 47.807)\n",
    "]\n",
    "xs = [p[0] for p in puntos]\n",
    "ys = [p[1] for p in puntos]\n",
    "\n",
    "# Obtener polinomio\n",
    "polinomio = interpolacion_lagrange_polinomio(xs, ys)\n",
    "print(\"Polinomio de interpolación simplificado:\")\n",
    "print(polinomio)\n",
    "\n",
    "# Evaluar polinomio en los mismos puntos\n",
    "ys_estimados = evaluar_polinomio(polinomio, xs)\n",
    "\n",
    "# Calcular errores\n",
    "errores = calcular_errores_relativos_numericos(ys, ys_estimados)\n",
    "min_error, max_error, prom_error = estadisticas_errores(errores)\n",
    "\n",
    "print(\"\\n Estadísticas de error relativo:\")\n",
    "print(f\"- Mínimo error relativo: {min_error}\")\n",
    "print(f\"- Máximo error relativo: {max_error}\")\n",
    "print(f\"- Promedio error relativo: {prom_error}\")\n"
   ]
  },
  {
   "cell_type": "code",
   "execution_count": 10,
   "id": "432fd2ec",
   "metadata": {},
   "outputs": [
    {
     "name": "stdout",
     "output_type": "stream",
     "text": [
      "\n",
      "Polinomio de interpolación de grado 4 simplificado (usando los primeros 5 puntos):\n",
      "-229018.02335187*x**4 - 6340114.41673933*x**3 - 65817992.5876681*x**2 - 303667614.8996*x - 525378620.080214\n"
     ]
    }
   ],
   "source": [
    "#interpola estos puntos\n",
    "puntos = [(-7.0, 18.295), (-6.96, 18.924), (-6.92, 17.099), (-6.879, 19.592), (-6.839, 18.568), (-6.799, 16.477), (-6.759, 18.783), (-6.719, 18.082), (-6.678, 18.099), (-6.638, 16.696), (-6.598, 16.457), (-6.558, 15.253), (-6.518, 18.337), (-6.477, 17.789), (-6.437, 17.014), (-6.397, 16.393), (-6.357, 16.286), (-6.317, 14.595), (-6.276, 15.176), (-6.236, 14.259), (-6.196, 16.252), (-6.156, 14.637), (-6.116, 15.447), (-6.075, 15.911), (-6.035, 13.627), (-5.995, 14.585), (-5.955, 12.948), (-5.915, 14.402), (-5.874, 14.563), (-5.834, 16.175), (-5.794, 14.377), (-5.754, 14.59), (-5.714, 14.161), (-5.673, 13.703), (-5.633, 13.377), (-5.593, 14.239), (-5.553, 13.006), (-5.513, 12.95), (-5.472, 13.591), (-5.432, 13.893), (-5.392, 11.532), (-5.352, 14.877), (-5.312, 13.337), (-5.271, 13.795), (-5.231, 12.723), (-5.191, 13.756), (-5.151, 11.947), (-5.111, 13.191), (-5.07, 12.461), (-5.03, 13.801), (-4.99, 13.337), (-4.95, 13.225), (-4.91, 13.312), (-4.869, 13.716), (-4.829, 13.061), (-4.789, 12.932), (-4.749, 13.159), (-4.709, 12.647), (-4.668, 12.159), (-4.628, 12.693), (-4.588, 11.234), (-4.548, 13.657), (-4.508, 12.131), (-4.467, 13.116), (-4.427, 11.28), (-4.387, 13.204), (-4.347, 12.681), (-4.307, 12.355), (-4.266, 12.447), (-4.226, 14.183), (-4.186, 14.629), (-4.146, 13.632), (-4.106, 12.527), (-4.065, 12.806), (-4.025, 12.193), (-3.985, 13.291), (-3.945, 13.825), (-3.905, 13.299), (-3.864, 14.618), (-3.824, 14.539), (-3.784, 12.474), (-3.744, 12.456), (-3.704, 14.371), (-3.663, 13.912), (-3.623, 12.522), (-3.583, 14.085), (-3.543, 12.861), (-3.503, 14.924), (-3.462, 14.87), (-3.422, 13.489), (-3.382, 15.417), (-3.342, 15.143), (-3.302, 14.011), (-3.261, 14.199), (-3.221, 14.469), (-3.181, 13.842), (-3.141, 13.583), (-3.101, 14.657), (-3.06, 14.469), (-3.02, 14.213), (-2.98, 16.496), (-2.94, 14.685), (-2.899, 16.626), (-2.859, 13.83), (-2.819, 15.049), (-2.779, 14.276), (-2.739, 16.734), (-2.698, 18.072), (-2.658, 16.275), (-2.618, 16.2), (-2.578, 16.4), (-2.538, 17.622), (-2.497, 17.129), (-2.457, 17.629), (-2.417, 15.697), (-2.377, 16.156), (-2.337, 17.454), (-2.296, 17.942), (-2.256, 15.999), (-2.216, 17.687), (-2.176, 17.084), (-2.136, 18.711), (-2.095, 14.939), (-2.055, 20.116), (-2.015, 18.477), (-1.975, 16.642), (-1.935, 19.969), (-1.894, 19.283), (-1.854, 20.629), (-1.814, 17.274), (-1.774, 18.177), (-1.734, 20.677), (-1.693, 22.297), (-1.653, 24.108), (-1.613, 21.001), (-1.573, 22.261), (-1.533, 19.508), (-1.492, 19.727), (-1.452, 23.987), (-1.412, 22.089), (-1.372, 24.427), (-1.332, 19.869), (-1.291, 24.149), (-1.251, 23.872), (-1.211, 26.017), (-1.171, 21.804), (-1.131, 23.37), (-1.09, 25.047), (-1.05, 23.894), (-1.01, 24.512), (-0.97, 27.049), (-0.93, 27.149), (-0.889, 26.742), (-0.849, 23.91), (-0.809, 24.265), (-0.769, 27.464), (-0.729, 23.775), (-0.688, 27.62), (-0.648, 28.504), (-0.608, 28.295), (-0.568, 28.096), (-0.528, 31.528), (-0.487, 31.188), (-0.447, 29.722), (-0.407, 29.521), (-0.367, 31.992), (-0.327, 28.991), (-0.286, 31.823), (-0.246, 33.04), (-0.206, 31.061), (-0.166, 32.814), (-0.126, 29.264), (-0.085, 33.214), (-0.045, 33.981), (-0.005, 36.273), (0.035, 33.327), (0.075, 34.618), (0.116, 35.065), (0.156, 31.0), (0.196, 36.441), (0.236, 38.878), (0.276, 36.338), (0.317, 37.844), (0.357, 32.963), (0.397, 35.057), (0.437, 35.193), (0.477, 39.027), (0.518, 35.477), (0.558, 36.345), (0.598, 36.056), (0.638, 39.056), (0.678, 40.193), (0.719, 36.724), (0.759, 39.845), (0.799, 43.666), (0.839, 41.484), (0.879, 39.019), (0.92, 37.805), (0.96, 45.267), (1.0, 47.807)\n",
    "]\n",
    "xs = [p[0] for p in puntos]\n",
    "ys = [p[1] for p in puntos]\n",
    "# Obtener polinomio de grado 4 usando los primeros 5 puntos\n",
    "polinomio_grado_4 = interpolacion_lagrange_polinomio(xs[:5], ys[:5])\n",
    "print(\"\\nPolinomio de interpolación de grado 4 simplificado (usando los primeros 5 puntos):\")\n",
    "print(polinomio_grado_4) \n"
   ]
  },
  {
   "cell_type": "code",
   "execution_count": null,
   "id": "d60f4e3b",
   "metadata": {},
   "outputs": [],
   "source": []
  }
 ],
 "metadata": {
  "kernelspec": {
   "display_name": "Python 3",
   "language": "python",
   "name": "python3"
  },
  "language_info": {
   "codemirror_mode": {
    "name": "ipython",
    "version": 3
   },
   "file_extension": ".py",
   "mimetype": "text/x-python",
   "name": "python",
   "nbconvert_exporter": "python",
   "pygments_lexer": "ipython3",
   "version": "3.11.9"
  }
 },
 "nbformat": 4,
 "nbformat_minor": 5
}
