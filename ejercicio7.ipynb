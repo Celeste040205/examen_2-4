{
 "cells": [
  {
   "cell_type": "code",
   "execution_count": null,
   "id": "47c287fd",
   "metadata": {},
   "outputs": [],
   "source": [
    "# %load_ext autoreload\n",
    "%reload_ext autoreload\n",
    "%autoreload 2\n",
    "\n",
    "# Simulamos importar ODE_euler (si lo has implementado)\n",
    "# from src import ODE_euler\n",
    "\n",
    "import numpy as np\n",
    "import matplotlib.pyplot as plt\n",
    "\n",
    "# Definición de la EDO: y' = -5y + 5t^2 + 2t\n",
    "def f(t, y):\n",
    "    return -5*y + 5*t**2 + 2*t\n",
    "\n",
    "# Solución exacta: y(t) = t^2 + (1/3)e^(-5t)\n",
    "def y_exacta(t):\n",
    "    return t**2 + (1/3)*np.exp(-5*t)\n",
    "\n",
    "# Método de Euler\n",
    "def ODE_euler(f, y0, a, b, N):\n",
    "    h = (b - a) / N\n",
    "    t = np.linspace(a, b, N+1)\n",
    "    y = np.zeros(N+1)\n",
    "    y[0] = y0\n",
    "    for i in range(N):\n",
    "        y[i+1] = y[i] + h * f(t[i], y[i])\n",
    "    return t, y\n"
   ]
  },
  {
   "cell_type": "code",
   "execution_count": 1,
   "id": "2ee7efc4",
   "metadata": {},
   "outputs": [
    {
     "name": "stdout",
     "output_type": "stream",
     "text": [
      "h = 0.1\n"
     ]
    }
   ],
   "source": [
    "# Parámetros\n",
    "a, b = 0, 1\n",
    "y0 = 1/3\n",
    "N = 10\n",
    "h = (b - a) / N\n",
    "print(f\"h = {h}\")\n"
   ]
  },
  {
   "cell_type": "code",
   "execution_count": null,
   "id": "9443b41d",
   "metadata": {},
   "outputs": [],
   "source": [
    "# Solución numérica con Euler\n",
    "t_euler, y_euler = ODE_euler(f, y0, a, b, N)\n",
    "\n",
    "# Solución real\n",
    "y_real = y_exacta(t_euler)\n",
    "\n",
    "# Gráfica\n",
    "plt.plot(t_euler, y_real, label='Solución exacta', color='blue')\n",
    "plt.plot(t_euler, y_euler, label='Euler N=10', linestyle='--', marker='o', color='red')\n",
    "plt.title(\"Comparación entre solución exacta y método de Euler\")\n",
    "plt.xlabel(\"t\")\n",
    "plt.ylabel(\"y(t)\")\n",
    "plt.legend()\n",
    "plt.grid(True)\n",
    "plt.show()\n"
   ]
  }
 ],
 "metadata": {
  "kernelspec": {
   "display_name": "Python 3",
   "language": "python",
   "name": "python3"
  },
  "language_info": {
   "codemirror_mode": {
    "name": "ipython",
    "version": 3
   },
   "file_extension": ".py",
   "mimetype": "text/x-python",
   "name": "python",
   "nbconvert_exporter": "python",
   "pygments_lexer": "ipython3",
   "version": "3.11.9"
  }
 },
 "nbformat": 4,
 "nbformat_minor": 5
}
